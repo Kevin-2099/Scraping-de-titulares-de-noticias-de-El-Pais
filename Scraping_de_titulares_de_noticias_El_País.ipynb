{
  "nbformat": 4,
  "nbformat_minor": 0,
  "metadata": {
    "colab": {
      "provenance": [],
      "authorship_tag": "ABX9TyNQmjT0YE4JWhlF+mmsfSe7",
      "include_colab_link": true
    },
    "kernelspec": {
      "name": "python3",
      "display_name": "Python 3"
    },
    "language_info": {
      "name": "python"
    }
  },
  "cells": [
    {
      "cell_type": "markdown",
      "metadata": {
        "id": "view-in-github",
        "colab_type": "text"
      },
      "source": [
        "<a href=\"https://colab.research.google.com/github/Kevin-2099/Scraping-de-titulares-de-noticias-de-El-Pais/blob/main/Scraping_de_titulares_de_noticias_El_Pa%C3%ADs.ipynb\" target=\"_parent\"><img src=\"https://colab.research.google.com/assets/colab-badge.svg\" alt=\"Open In Colab\"/></a>"
      ]
    },
    {
      "cell_type": "code",
      "execution_count": 1,
      "metadata": {
        "colab": {
          "base_uri": "https://localhost:8080/",
          "height": 263
        },
        "id": "27tccaCuTb0G",
        "outputId": "a2a557bb-f6f2-4508-9163-d119d1551038"
      },
      "outputs": [
        {
          "output_type": "stream",
          "name": "stdout",
          "text": [
            "Titulares encontrados: 144\n",
            "['Donald\\xa0Trump rechaza aclarar sus intenciones sobre Irán: “Podría atacar o podría no hacerlo”', 'Israel alterna los ataques contra objetivos nucleares iraníes con la presión sobre Jameneí', 'Estados Unidos envía aviones cisterna a España para reforzar su despliegue ante Irán', 'Teherán encuentra grietas en el escudo antimisiles que protege a Israel', 'Los empresarios alertan del peligro de recuperar las redadas en hoteles, restaurantes y granjas', 'El Supremo permite a los Estados prohibir los tratamientos de género a los menores trans', 'Daniel Drucker, padre de Ozempic: “No tenemos datos suficientes para usarlo en personas sanas, yo no vendo los fármacos”', 'La Reserva Federal mantiene los tipos y prevé solo recortar 0,5 puntos este año pese a las presiones', 'Las deportaciones de mexicanos bajan un 30% desde el regreso del republicano', 'El visado de oro de Donald Trump ya cuenta con casi 70.000 solicitudes']\n",
            "                                             Titular\n",
            "0  Donald Trump rechaza aclarar sus intenciones s...\n",
            "1  Israel alterna los ataques contra objetivos nu...\n",
            "2  Estados Unidos envía aviones cisterna a España...\n",
            "3  Teherán encuentra grietas en el escudo antimis...\n",
            "4  Los empresarios alertan del peligro de recuper...\n",
            "5  El Supremo permite a los Estados prohibir los ...\n",
            "6  Daniel Drucker, padre de Ozempic: “No tenemos ...\n",
            "7  La Reserva Federal mantiene los tipos y prevé ...\n",
            "8  Las deportaciones de mexicanos bajan un 30% de...\n",
            "9  El visado de oro de Donald Trump ya cuenta con...\n"
          ]
        },
        {
          "output_type": "display_data",
          "data": {
            "text/plain": [
              "<IPython.core.display.Javascript object>"
            ],
            "application/javascript": [
              "\n",
              "    async function download(id, filename, size) {\n",
              "      if (!google.colab.kernel.accessAllowed) {\n",
              "        return;\n",
              "      }\n",
              "      const div = document.createElement('div');\n",
              "      const label = document.createElement('label');\n",
              "      label.textContent = `Downloading \"${filename}\": `;\n",
              "      div.appendChild(label);\n",
              "      const progress = document.createElement('progress');\n",
              "      progress.max = size;\n",
              "      div.appendChild(progress);\n",
              "      document.body.appendChild(div);\n",
              "\n",
              "      const buffers = [];\n",
              "      let downloaded = 0;\n",
              "\n",
              "      const channel = await google.colab.kernel.comms.open(id);\n",
              "      // Send a message to notify the kernel that we're ready.\n",
              "      channel.send({})\n",
              "\n",
              "      for await (const message of channel.messages) {\n",
              "        // Send a message to notify the kernel that we're ready.\n",
              "        channel.send({})\n",
              "        if (message.buffers) {\n",
              "          for (const buffer of message.buffers) {\n",
              "            buffers.push(buffer);\n",
              "            downloaded += buffer.byteLength;\n",
              "            progress.value = downloaded;\n",
              "          }\n",
              "        }\n",
              "      }\n",
              "      const blob = new Blob(buffers, {type: 'application/binary'});\n",
              "      const a = document.createElement('a');\n",
              "      a.href = window.URL.createObjectURL(blob);\n",
              "      a.download = filename;\n",
              "      div.appendChild(a);\n",
              "      a.click();\n",
              "      div.remove();\n",
              "    }\n",
              "  "
            ]
          },
          "metadata": {}
        },
        {
          "output_type": "display_data",
          "data": {
            "text/plain": [
              "<IPython.core.display.Javascript object>"
            ],
            "application/javascript": [
              "download(\"download_a8a61582-7f9b-4713-bdca-9fcadbf6defb\", \"titulares_elpais.csv\", 944)"
            ]
          },
          "metadata": {}
        }
      ],
      "source": [
        "import requests\n",
        "from bs4 import BeautifulSoup\n",
        "import csv\n",
        "import pandas as pd\n",
        "from google.colab import files\n",
        "\n",
        "# Paso 1: Obtener la página de El País\n",
        "url = 'https://elpais.com/'\n",
        "response = requests.get(url)\n",
        "soup = BeautifulSoup(response.text, 'html.parser')\n",
        "\n",
        "# Paso 2: Extraer titulares. En El País suelen estar en <h2> o <h3> con clase 'headline' o 'c_t'\n",
        "# Aquí vamos a tomar los h2 que tengan texto\n",
        "headlines = soup.select('h2')\n",
        "titulares = [h.text.strip() for h in headlines if h.text.strip()]\n",
        "\n",
        "print(f\"Titulares encontrados: {len(titulares)}\")\n",
        "print(titulares[:10])\n",
        "\n",
        "# Paso 3: Guardar los 10 primeros titulares en CSV\n",
        "with open('titulares_elpais.csv', 'w', newline='', encoding='utf-8') as f:\n",
        "    writer = csv.writer(f)\n",
        "    writer.writerow(['Titular'])\n",
        "    for titular in titulares[:10]:\n",
        "        writer.writerow([titular])\n",
        "\n",
        "# Mostrar CSV con pandas\n",
        "df = pd.read_csv('titulares_elpais.csv')\n",
        "print(df)\n",
        "\n",
        "# Descargar CSV\n",
        "files.download('titulares_elpais.csv')"
      ]
    }
  ]
}